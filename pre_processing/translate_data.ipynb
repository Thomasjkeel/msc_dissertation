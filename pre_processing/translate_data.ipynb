{
 "cells": [
  {
   "cell_type": "markdown",
   "metadata": {
    "deletable": true,
    "editable": true
   },
   "source": [
    "## Summary\n",
    "Notebook to translate the mode and purpose into english\n",
    "get script"
   ]
  },
  {
   "cell_type": "code",
   "execution_count": 5,
   "metadata": {
    "collapsed": false,
    "deletable": true,
    "editable": true
   },
   "outputs": [],
   "source": [
    "import geopandas as gpd\n",
    "import matplotlib.pyplot as plt\n",
    "\n",
    "%matplotlib inline"
   ]
  },
  {
   "cell_type": "code",
   "execution_count": 93,
   "metadata": {
    "collapsed": true,
    "deletable": true,
    "editable": true
   },
   "outputs": [],
   "source": [
    "gdf = gpd.read_file(\"../app_route_data/trajets_mtl_trajet_2017.shp\", encoding='utf-8') # utf-8 needed to read french letters"
   ]
  },
  {
   "cell_type": "code",
   "execution_count": 94,
   "metadata": {
    "collapsed": false,
    "deletable": true,
    "editable": true
   },
   "outputs": [
    {
     "data": {
      "text/html": [
       "<div>\n",
       "<style scoped>\n",
       "    .dataframe tbody tr th:only-of-type {\n",
       "        vertical-align: middle;\n",
       "    }\n",
       "\n",
       "    .dataframe tbody tr th {\n",
       "        vertical-align: top;\n",
       "    }\n",
       "\n",
       "    .dataframe thead th {\n",
       "        text-align: right;\n",
       "    }\n",
       "</style>\n",
       "<table border=\"1\" class=\"dataframe\">\n",
       "  <thead>\n",
       "    <tr style=\"text-align: right;\">\n",
       "      <th></th>\n",
       "      <th>id_trip</th>\n",
       "      <th>mode</th>\n",
       "      <th>purpose</th>\n",
       "      <th>starttime</th>\n",
       "      <th>endtime</th>\n",
       "      <th>geometry</th>\n",
       "    </tr>\n",
       "  </thead>\n",
       "  <tbody>\n",
       "    <tr>\n",
       "      <th>0</th>\n",
       "      <td>1547</td>\n",
       "      <td>None</td>\n",
       "      <td>None</td>\n",
       "      <td>2017-09-18 04:16:58UTC</td>\n",
       "      <td>2017-09-18 04:26:26UTC</td>\n",
       "      <td>LINESTRING (-73.651166 45.544501, -73.65122700...</td>\n",
       "    </tr>\n",
       "    <tr>\n",
       "      <th>1</th>\n",
       "      <td>308312</td>\n",
       "      <td>None</td>\n",
       "      <td>None</td>\n",
       "      <td>2017-09-18 06:17:46UTC</td>\n",
       "      <td>2017-09-18 06:58:49UTC</td>\n",
       "      <td>LINESTRING (-73.650987 45.544496, -73.651011 4...</td>\n",
       "    </tr>\n",
       "    <tr>\n",
       "      <th>2</th>\n",
       "      <td>384772</td>\n",
       "      <td>None</td>\n",
       "      <td>None</td>\n",
       "      <td>2017-09-18 09:30:24UTC</td>\n",
       "      <td>2017-09-18 10:17:28UTC</td>\n",
       "      <td>(LINESTRING (-73.832869 45.636068, -73.831779 ...</td>\n",
       "    </tr>\n",
       "    <tr>\n",
       "      <th>3</th>\n",
       "      <td>150744</td>\n",
       "      <td>Voiture / Moto</td>\n",
       "      <td>Reconduire / aller chercher une personne</td>\n",
       "      <td>2017-09-18 10:02:50UTC</td>\n",
       "      <td>2017-09-18 10:17:12UTC</td>\n",
       "      <td>LINESTRING (-73.646385 45.54629, -73.646064999...</td>\n",
       "    </tr>\n",
       "    <tr>\n",
       "      <th>4</th>\n",
       "      <td>199011</td>\n",
       "      <td>None</td>\n",
       "      <td>None</td>\n",
       "      <td>2017-09-18 10:18:40UTC</td>\n",
       "      <td>2017-09-18 10:27:44UTC</td>\n",
       "      <td>(LINESTRING (-73.74549500000001 45.55839, -73....</td>\n",
       "    </tr>\n",
       "  </tbody>\n",
       "</table>\n",
       "</div>"
      ],
      "text/plain": [
       "   id_trip            mode                                   purpose  \\\n",
       "0     1547            None                                      None   \n",
       "1   308312            None                                      None   \n",
       "2   384772            None                                      None   \n",
       "3   150744  Voiture / Moto  Reconduire / aller chercher une personne   \n",
       "4   199011            None                                      None   \n",
       "\n",
       "                starttime                 endtime  \\\n",
       "0  2017-09-18 04:16:58UTC  2017-09-18 04:26:26UTC   \n",
       "1  2017-09-18 06:17:46UTC  2017-09-18 06:58:49UTC   \n",
       "2  2017-09-18 09:30:24UTC  2017-09-18 10:17:28UTC   \n",
       "3  2017-09-18 10:02:50UTC  2017-09-18 10:17:12UTC   \n",
       "4  2017-09-18 10:18:40UTC  2017-09-18 10:27:44UTC   \n",
       "\n",
       "                                            geometry  \n",
       "0  LINESTRING (-73.651166 45.544501, -73.65122700...  \n",
       "1  LINESTRING (-73.650987 45.544496, -73.651011 4...  \n",
       "2  (LINESTRING (-73.832869 45.636068, -73.831779 ...  \n",
       "3  LINESTRING (-73.646385 45.54629, -73.646064999...  \n",
       "4  (LINESTRING (-73.74549500000001 45.55839, -73....  "
      ]
     },
     "execution_count": 94,
     "metadata": {},
     "output_type": "execute_result"
    }
   ],
   "source": [
    "gdf.head()"
   ]
  },
  {
   "cell_type": "code",
   "execution_count": 95,
   "metadata": {
    "collapsed": false,
    "deletable": true,
    "editable": true,
    "scrolled": true
   },
   "outputs": [],
   "source": [
    "purpose_translations = {\"None\":\"None\",'Reconduire / aller chercher une personne':'pick_up_a_person',\n",
    "       \"Travail / Rendez-vous d'affaires\":'work', 'Magasinage / emplettes':'shops',\n",
    "       'Retourner à mon domicile':'returning_home', 'Santé':'health', 'Loisir':'leisure', 'Éducation':'education',\n",
    "       'Autre':'other', 'Repas / collation / café':'cafe', 'ND':'not_available'}\n",
    "if not \"other\" in gdf.purpose.unique():\n",
    "    gdf['purpose'] = gdf.purpose.apply(lambda pur: purpose_translations[pur] if pur else pur)"
   ]
  },
  {
   "cell_type": "code",
   "execution_count": 118,
   "metadata": {
    "collapsed": false,
    "deletable": true,
    "editable": true
   },
   "outputs": [],
   "source": [
    "mode_translations = {\"Voiture / Moto\":\"car\", \"À pied\":\"walking\", \"Transport collectif\":\"public_transport\",\n",
    "                     \"Autopartage\":\"car_sharing\", \"Vélo\":\"cycling\", \"Taxi\":\"taxi\",\n",
    "                     \"Autre\":\"other\", \"ND\":\"not_available\"}\n",
    "def mode_to_new_name(mode_names):\n",
    "    if mode_names:\n",
    "        mode_list = mode_names.split(',')\n",
    "        translations = []\n",
    "        for mode in mode_list:\n",
    "            translations.append(mode_translations[mode.lstrip()])\n",
    "        return str(translations).strip('[]').replace(\"'\", '')\n",
    "    else:\n",
    "        return mode_names"
   ]
  },
  {
   "cell_type": "code",
   "execution_count": 119,
   "metadata": {
    "collapsed": false,
    "deletable": true,
    "editable": true
   },
   "outputs": [],
   "source": [
    "if not \"other\" in gdf['mode'].unique():\n",
    "    gdf['mode'] = gdf['mode'].apply(mode_to_new_name)"
   ]
  },
  {
   "cell_type": "code",
   "execution_count": 123,
   "metadata": {
    "collapsed": false,
    "deletable": true,
    "editable": true,
    "scrolled": true
   },
   "outputs": [
    {
     "data": {
      "text/plain": [
       "array([None, 'car', 'walking, public_transport', 'public_transport',\n",
       "       'walking', 'cycling', 'walking, public_transport, cycling',\n",
       "       'public_transport, car', 'walking, cycling',\n",
       "       'walking, car, cycling', 'car_sharing', 'other',\n",
       "       'public_transport, cycling', 'walking, public_transport, car',\n",
       "       'public_transport, car, cycling', 'walking, car', 'car, cycling',\n",
       "       'taxi', 'not_available', 'taxi, cycling',\n",
       "       'walking, car_sharing, cycling',\n",
       "       'car_sharing, public_transport, car', 'taxi, car',\n",
       "       'walking, car_sharing, car', 'car_sharing, other',\n",
       "       'walking, taxi, cycling', 'car_sharing, taxi', 'car_sharing, car',\n",
       "       'car_sharing, other, car', 'car_sharing, public_transport',\n",
       "       'walking, public_transport, car, cycling',\n",
       "       'other, public_transport', 'walking, other, public_transport',\n",
       "       'other, cycling', 'other, taxi',\n",
       "       'walking, car_sharing, other, public_transport', 'walking, other',\n",
       "       'other, car', 'walking, taxi', 'other, public_transport, car',\n",
       "       'car_sharing, cycling', 'walking, car_sharing',\n",
       "       'car_sharing, other, taxi', 'other, car, cycling',\n",
       "       'taxi, public_transport', 'car_sharing, public_transport, cycling',\n",
       "       'walking, taxi, public_transport', 'taxi, public_transport, car',\n",
       "       'walking, car_sharing, public_transport', 'car_sharing, taxi, car',\n",
       "       'walking, taxi, car', 'car_sharing, other, public_transport',\n",
       "       'walking, taxi, public_transport, cycling',\n",
       "       'other, taxi, public_transport', 'walking, other, car',\n",
       "       'taxi, car, cycling', 'walking, car_sharing, taxi',\n",
       "       'walking, taxi, car, cycling',\n",
       "       'walking, car_sharing, taxi, public_transport',\n",
       "       'other, public_transport, cycling',\n",
       "       'walking, car_sharing, other, taxi, public_transport, car, cycling',\n",
       "       'other, taxi, cycling', 'walking, car_sharing, other',\n",
       "       'walking, car_sharing, public_transport, car',\n",
       "       'car_sharing, public_transport, car, cycling',\n",
       "       'car_sharing, taxi, public_transport, car',\n",
       "       'taxi, public_transport, cycling',\n",
       "       'walking, other, public_transport, car', 'walking, other, cycling',\n",
       "       'walking, taxi, public_transport, car, cycling'], dtype=object)"
      ]
     },
     "execution_count": 123,
     "metadata": {},
     "output_type": "execute_result"
    }
   ],
   "source": [
    "gdf['mode'].unique()"
   ]
  },
  {
   "cell_type": "code",
   "execution_count": 125,
   "metadata": {
    "collapsed": false,
    "deletable": true,
    "editable": true
   },
   "outputs": [],
   "source": [
    "## re-save the file\n",
    "# gdf.to_file(\"../app_route_data/trajets_mtl_trajet_2017.shp\", encoding='utf-8')"
   ]
  },
  {
   "cell_type": "code",
   "execution_count": null,
   "metadata": {
    "collapsed": true,
    "deletable": true,
    "editable": true
   },
   "outputs": [],
   "source": []
  }
 ],
 "metadata": {
  "kernelspec": {
   "display_name": "Python (autotrip)",
   "language": "python",
   "name": "autotrip"
  },
  "language_info": {
   "codemirror_mode": {
    "name": "ipython",
    "version": 3
   },
   "file_extension": ".py",
   "mimetype": "text/x-python",
   "name": "python",
   "nbconvert_exporter": "python",
   "pygments_lexer": "ipython3",
   "version": "3.6.5"
  }
 },
 "nbformat": 4,
 "nbformat_minor": 2
}
