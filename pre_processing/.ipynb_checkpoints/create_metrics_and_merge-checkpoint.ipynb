{
 "cells": [
  {
   "cell_type": "markdown",
   "metadata": {
    "deletable": true,
    "editable": true
   },
   "source": [
    "## metrics & merge:\n",
    "- calc a distance, avg. speed?, directionality (N,E,S,W) \n",
    "- merge to socio-demographic data?"
   ]
  },
  {
   "cell_type": "code",
   "execution_count": 1,
   "metadata": {
    "collapsed": true,
    "deletable": true,
    "editable": true
   },
   "outputs": [],
   "source": [
    "import geopandas as gpd\n",
    "import matplotlib.pyplot as plt\n",
    "import pandas as pd\n",
    "import datetime\n",
    "import numpy as np\n",
    "import seaborn as sns\n",
    "\n",
    "%matplotlib inline"
   ]
  },
  {
   "cell_type": "code",
   "execution_count": 2,
   "metadata": {
    "collapsed": true,
    "deletable": true,
    "editable": true
   },
   "outputs": [],
   "source": [
    "gdf = gpd.read_file(\"../app_route_data/trajets_mtl_trajet_2017.shp\", encoding='utf-8') # utf-8 needed to read french letters"
   ]
  },
  {
   "cell_type": "code",
   "execution_count": 3,
   "metadata": {
    "collapsed": false,
    "deletable": true,
    "editable": true
   },
   "outputs": [
    {
     "data": {
      "text/html": [
       "<div>\n",
       "<style scoped>\n",
       "    .dataframe tbody tr th:only-of-type {\n",
       "        vertical-align: middle;\n",
       "    }\n",
       "\n",
       "    .dataframe tbody tr th {\n",
       "        vertical-align: top;\n",
       "    }\n",
       "\n",
       "    .dataframe thead th {\n",
       "        text-align: right;\n",
       "    }\n",
       "</style>\n",
       "<table border=\"1\" class=\"dataframe\">\n",
       "  <thead>\n",
       "    <tr style=\"text-align: right;\">\n",
       "      <th></th>\n",
       "      <th>id_trip</th>\n",
       "      <th>mode</th>\n",
       "      <th>purpose</th>\n",
       "      <th>starttime</th>\n",
       "      <th>endtime</th>\n",
       "      <th>geometry</th>\n",
       "    </tr>\n",
       "  </thead>\n",
       "  <tbody>\n",
       "    <tr>\n",
       "      <th>0</th>\n",
       "      <td>1547</td>\n",
       "      <td>None</td>\n",
       "      <td>None</td>\n",
       "      <td>2017-09-18 04:16:58UTC</td>\n",
       "      <td>2017-09-18 04:26:26UTC</td>\n",
       "      <td>LINESTRING (-73.651166 45.544501, -73.65122700...</td>\n",
       "    </tr>\n",
       "    <tr>\n",
       "      <th>1</th>\n",
       "      <td>308312</td>\n",
       "      <td>None</td>\n",
       "      <td>None</td>\n",
       "      <td>2017-09-18 06:17:46UTC</td>\n",
       "      <td>2017-09-18 06:58:49UTC</td>\n",
       "      <td>LINESTRING (-73.650987 45.544496, -73.651011 4...</td>\n",
       "    </tr>\n",
       "    <tr>\n",
       "      <th>2</th>\n",
       "      <td>384772</td>\n",
       "      <td>None</td>\n",
       "      <td>None</td>\n",
       "      <td>2017-09-18 09:30:24UTC</td>\n",
       "      <td>2017-09-18 10:17:28UTC</td>\n",
       "      <td>(LINESTRING (-73.832869 45.636068, -73.831779 ...</td>\n",
       "    </tr>\n",
       "    <tr>\n",
       "      <th>3</th>\n",
       "      <td>150744</td>\n",
       "      <td>car</td>\n",
       "      <td>pick_up_a_person</td>\n",
       "      <td>2017-09-18 10:02:50UTC</td>\n",
       "      <td>2017-09-18 10:17:12UTC</td>\n",
       "      <td>LINESTRING (-73.646385 45.54629, -73.646064999...</td>\n",
       "    </tr>\n",
       "    <tr>\n",
       "      <th>4</th>\n",
       "      <td>199011</td>\n",
       "      <td>None</td>\n",
       "      <td>None</td>\n",
       "      <td>2017-09-18 10:18:40UTC</td>\n",
       "      <td>2017-09-18 10:27:44UTC</td>\n",
       "      <td>(LINESTRING (-73.74549500000001 45.55839, -73....</td>\n",
       "    </tr>\n",
       "  </tbody>\n",
       "</table>\n",
       "</div>"
      ],
      "text/plain": [
       "   id_trip  mode           purpose               starttime  \\\n",
       "0     1547  None              None  2017-09-18 04:16:58UTC   \n",
       "1   308312  None              None  2017-09-18 06:17:46UTC   \n",
       "2   384772  None              None  2017-09-18 09:30:24UTC   \n",
       "3   150744   car  pick_up_a_person  2017-09-18 10:02:50UTC   \n",
       "4   199011  None              None  2017-09-18 10:18:40UTC   \n",
       "\n",
       "                  endtime                                           geometry  \n",
       "0  2017-09-18 04:26:26UTC  LINESTRING (-73.651166 45.544501, -73.65122700...  \n",
       "1  2017-09-18 06:58:49UTC  LINESTRING (-73.650987 45.544496, -73.651011 4...  \n",
       "2  2017-09-18 10:17:28UTC  (LINESTRING (-73.832869 45.636068, -73.831779 ...  \n",
       "3  2017-09-18 10:17:12UTC  LINESTRING (-73.646385 45.54629, -73.646064999...  \n",
       "4  2017-09-18 10:27:44UTC  (LINESTRING (-73.74549500000001 45.55839, -73....  "
      ]
     },
     "execution_count": 3,
     "metadata": {},
     "output_type": "execute_result"
    }
   ],
   "source": [
    "gdf.head()"
   ]
  },
  {
   "cell_type": "code",
   "execution_count": 4,
   "metadata": {
    "collapsed": false,
    "deletable": true,
    "editable": true
   },
   "outputs": [],
   "source": [
    "gdf['starttime'] = pd.to_datetime(gdf['starttime'])\n",
    "gdf['endtime'] = pd.to_datetime(gdf['endtime'])"
   ]
  },
  {
   "cell_type": "code",
   "execution_count": 5,
   "metadata": {
    "collapsed": false,
    "deletable": true,
    "editable": true
   },
   "outputs": [],
   "source": [
    "gdf['journeytime'] = gdf['endtime'] - gdf['starttime']"
   ]
  },
  {
   "cell_type": "code",
   "execution_count": 6,
   "metadata": {
    "collapsed": false,
    "deletable": true,
    "editable": true
   },
   "outputs": [],
   "source": [
    "gdf['journeytime'] = gdf.journeytime.apply(lambda tm: tm.seconds)"
   ]
  },
  {
   "cell_type": "code",
   "execution_count": 7,
   "metadata": {
    "collapsed": false,
    "deletable": true,
    "editable": true
   },
   "outputs": [
    {
     "data": {
      "text/plain": [
       "count    185285.000000\n",
       "mean       1531.031454\n",
       "std        1487.144484\n",
       "min           1.000000\n",
       "25%         576.000000\n",
       "50%        1164.000000\n",
       "75%        2049.000000\n",
       "max       83858.000000\n",
       "Name: journeytime, dtype: float64"
      ]
     },
     "execution_count": 7,
     "metadata": {},
     "output_type": "execute_result"
    }
   ],
   "source": [
    "gdf.journeytime.describe()"
   ]
  },
  {
   "cell_type": "code",
   "execution_count": 8,
   "metadata": {
    "collapsed": false,
    "deletable": true,
    "editable": true
   },
   "outputs": [
    {
     "data": {
      "text/plain": [
       "Text(0.5, 0, 'journey time (mins)')"
      ]
     },
     "execution_count": 8,
     "metadata": {},
     "output_type": "execute_result"
    },
    {
     "data": {
      "image/png": "[encoded data removed]",
      "text/plain": [
       "<Figure size 432x288 with 1 Axes>"
      ]
     },
     "metadata": {},
     "output_type": "display_data"
    }
   ],
   "source": [
    "sns.distplot(gdf.journeytime/60,hist=True)\n",
    "plt.xlabel(\"journey time (mins)\")"
   ]
  },
  {
   "cell_type": "code",
   "execution_count": 9,
   "metadata": {
    "collapsed": false,
    "deletable": true,
    "editable": true
   },
   "outputs": [
    {
     "data": {
      "text/plain": [
       "<matplotlib.axes._subplots.AxesSubplot at 0x1a1da70cf8>"
      ]
     },
     "execution_count": 9,
     "metadata": {},
     "output_type": "execute_result"
    },
    {
     "data": {
      "image/png": "[encoded data removed]",
      "text/plain": [
       "<Figure size 432x288 with 1 Axes>"
      ]
     },
     "metadata": {},
     "output_type": "display_data"
    }
   ],
   "source": [
    "sns.kdeplot(gdf.journeytime,cumulative=True)"
   ]
  },
  {
   "cell_type": "code",
   "execution_count": 12,
   "metadata": {
    "collapsed": false,
    "deletable": true,
    "editable": true
   },
   "outputs": [
    {
     "data": {
      "text/plain": [
       "<matplotlib.axes._subplots.AxesSubplot at 0x1a1dadb908>"
      ]
     },
     "execution_count": 12,
     "metadata": {},
     "output_type": "execute_result"
    },
    {
     "data": {
      "image/png": "[encoded data removed]",
      "text/plain": [
       "<Figure size 432x288 with 1 Axes>"
      ]
     },
     "metadata": {},
     "output_type": "display_data"
    }
   ],
   "source": [
    "gdf.groupby([\"purpose\"]).mean().journeytime.plot.barh()"
   ]
  },
  {
   "cell_type": "code",
   "execution_count": null,
   "metadata": {
    "collapsed": true,
    "deletable": true,
    "editable": true
   },
   "outputs": [],
   "source": []
  }
 ],
 "metadata": {
  "kernelspec": {
   "display_name": "Python (autotrip)",
   "language": "python",
   "name": "autotrip"
  },
  "language_info": {
   "codemirror_mode": {
    "name": "ipython",
    "version": 3
   },
   "file_extension": ".py",
   "mimetype": "text/x-python",
   "name": "python",
   "nbconvert_exporter": "python",
   "pygments_lexer": "ipython3",
   "version": "3.6.5"
  }
 },
 "nbformat": 4,
 "nbformat_minor": 2
}
