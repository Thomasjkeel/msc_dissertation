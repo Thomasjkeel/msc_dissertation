{
 "cells": [
  {
   "cell_type": "code",
   "execution_count": 1,
   "metadata": {
    "collapsed": false,
    "deletable": true,
    "editable": true
   },
   "outputs": [],
   "source": [
    "import geopandas as gpd\n",
    "import matplotlib.pyplot as plt\n",
    "\n",
    "%matplotlib inline"
   ]
  },
  {
   "cell_type": "code",
   "execution_count": 2,
   "metadata": {
    "collapsed": false,
    "deletable": true,
    "editable": true
   },
   "outputs": [],
   "source": [
    "gdf = gpd.read_file(\"../app_route_data/trajets_mtl_trajet_2017.shp\", encoding='utf-8') # utf-8 needed to read french letters"
   ]
  },
  {
   "cell_type": "code",
   "execution_count": 3,
   "metadata": {
    "collapsed": false,
    "deletable": true,
    "editable": true
   },
   "outputs": [
    {
     "name": "stdout",
     "output_type": "stream",
     "text": [
      "<class 'geopandas.geodataframe.GeoDataFrame'>\n",
      "RangeIndex: 185285 entries, 0 to 185284\n",
      "Data columns (total 6 columns):\n",
      "id_trip      185285 non-null int64\n",
      "mode         74218 non-null object\n",
      "purpose      74218 non-null object\n",
      "starttime    185285 non-null object\n",
      "endtime      185285 non-null object\n",
      "geometry     185285 non-null object\n",
      "dtypes: int64(1), object(5)\n",
      "memory usage: 8.5+ MB\n",
      "None\n"
     ]
    }
   ],
   "source": [
    "print(gdf.info())"
   ]
  },
  {
   "cell_type": "code",
   "execution_count": 4,
   "metadata": {
    "collapsed": false,
    "deletable": true,
    "editable": true
   },
   "outputs": [
    {
     "name": "stdout",
     "output_type": "stream",
     "text": [
      "2017-09-18 04:16:58UTC 2017-10-18 03:50:08UTC\n"
     ]
    }
   ],
   "source": [
    "print(gdf.starttime.min(), gdf.starttime.max())"
   ]
  },
  {
   "cell_type": "code",
   "execution_count": 5,
   "metadata": {
    "collapsed": false,
    "deletable": true,
    "editable": true
   },
   "outputs": [
    {
     "data": {
      "text/html": [
       "<div>\n",
       "<style scoped>\n",
       "    .dataframe tbody tr th:only-of-type {\n",
       "        vertical-align: middle;\n",
       "    }\n",
       "\n",
       "    .dataframe tbody tr th {\n",
       "        vertical-align: top;\n",
       "    }\n",
       "\n",
       "    .dataframe thead th {\n",
       "        text-align: right;\n",
       "    }\n",
       "</style>\n",
       "<table border=\"1\" class=\"dataframe\">\n",
       "  <thead>\n",
       "    <tr style=\"text-align: right;\">\n",
       "      <th></th>\n",
       "      <th>id_trip</th>\n",
       "      <th>mode</th>\n",
       "      <th>purpose</th>\n",
       "      <th>starttime</th>\n",
       "      <th>endtime</th>\n",
       "      <th>geometry</th>\n",
       "    </tr>\n",
       "  </thead>\n",
       "  <tbody>\n",
       "    <tr>\n",
       "      <th>0</th>\n",
       "      <td>1547</td>\n",
       "      <td>None</td>\n",
       "      <td>None</td>\n",
       "      <td>2017-09-18 04:16:58UTC</td>\n",
       "      <td>2017-09-18 04:26:26UTC</td>\n",
       "      <td>LINESTRING (-73.651166 45.544501, -73.65122700...</td>\n",
       "    </tr>\n",
       "    <tr>\n",
       "      <th>1</th>\n",
       "      <td>308312</td>\n",
       "      <td>None</td>\n",
       "      <td>None</td>\n",
       "      <td>2017-09-18 06:17:46UTC</td>\n",
       "      <td>2017-09-18 06:58:49UTC</td>\n",
       "      <td>LINESTRING (-73.650987 45.544496, -73.651011 4...</td>\n",
       "    </tr>\n",
       "    <tr>\n",
       "      <th>2</th>\n",
       "      <td>384772</td>\n",
       "      <td>None</td>\n",
       "      <td>None</td>\n",
       "      <td>2017-09-18 09:30:24UTC</td>\n",
       "      <td>2017-09-18 10:17:28UTC</td>\n",
       "      <td>(LINESTRING (-73.832869 45.636068, -73.831779 ...</td>\n",
       "    </tr>\n",
       "    <tr>\n",
       "      <th>3</th>\n",
       "      <td>150744</td>\n",
       "      <td>Voiture / Moto</td>\n",
       "      <td>Reconduire / aller chercher une personne</td>\n",
       "      <td>2017-09-18 10:02:50UTC</td>\n",
       "      <td>2017-09-18 10:17:12UTC</td>\n",
       "      <td>LINESTRING (-73.646385 45.54629, -73.646064999...</td>\n",
       "    </tr>\n",
       "    <tr>\n",
       "      <th>4</th>\n",
       "      <td>199011</td>\n",
       "      <td>None</td>\n",
       "      <td>None</td>\n",
       "      <td>2017-09-18 10:18:40UTC</td>\n",
       "      <td>2017-09-18 10:27:44UTC</td>\n",
       "      <td>(LINESTRING (-73.74549500000001 45.55839, -73....</td>\n",
       "    </tr>\n",
       "  </tbody>\n",
       "</table>\n",
       "</div>"
      ],
      "text/plain": [
       "   id_trip            mode                                   purpose  \\\n",
       "0     1547            None                                      None   \n",
       "1   308312            None                                      None   \n",
       "2   384772            None                                      None   \n",
       "3   150744  Voiture / Moto  Reconduire / aller chercher une personne   \n",
       "4   199011            None                                      None   \n",
       "\n",
       "                starttime                 endtime  \\\n",
       "0  2017-09-18 04:16:58UTC  2017-09-18 04:26:26UTC   \n",
       "1  2017-09-18 06:17:46UTC  2017-09-18 06:58:49UTC   \n",
       "2  2017-09-18 09:30:24UTC  2017-09-18 10:17:28UTC   \n",
       "3  2017-09-18 10:02:50UTC  2017-09-18 10:17:12UTC   \n",
       "4  2017-09-18 10:18:40UTC  2017-09-18 10:27:44UTC   \n",
       "\n",
       "                                            geometry  \n",
       "0  LINESTRING (-73.651166 45.544501, -73.65122700...  \n",
       "1  LINESTRING (-73.650987 45.544496, -73.651011 4...  \n",
       "2  (LINESTRING (-73.832869 45.636068, -73.831779 ...  \n",
       "3  LINESTRING (-73.646385 45.54629, -73.646064999...  \n",
       "4  (LINESTRING (-73.74549500000001 45.55839, -73....  "
      ]
     },
     "execution_count": 5,
     "metadata": {},
     "output_type": "execute_result"
    }
   ],
   "source": [
    "gdf.head()"
   ]
  },
  {
   "cell_type": "code",
   "execution_count": 6,
   "metadata": {
    "collapsed": false,
    "deletable": true,
    "editable": true
   },
   "outputs": [
    {
     "data": {
      "image/svg+xml": [
       "<svg xmlns=\"http://www.w3.org/2000/svg\" xmlns:xlink=\"http://www.w3.org/1999/xlink\" width=\"100.0\" height=\"100.0\" viewBox=\"-73.65507324 45.54336976 0.004218479999991587 0.0028724800000077266\" preserveAspectRatio=\"xMinYMin meet\"><g transform=\"matrix(1,0,0,-1,0,91.089612)\"><polyline fill=\"none\" stroke=\"#66cc99\" stroke-width=\"8.436959999983174e-05\" points=\"-73.651166,45.544501 -73.651227,45.544519 -73.653826,45.545258 -73.654753,45.545521 -73.654917,45.545565 -73.654615,45.546086 -73.65365,45.545816 -73.653426,45.545753 -73.653625,45.545809 -73.65365,45.545816 -73.654615,45.546086 -73.654917,45.545565 -73.654753,45.545521 -73.654167,45.545354 -73.651227,45.544519 -73.651166,45.544501 -73.651457,45.543993 -73.651702,45.543567 -73.651561,45.543526 -73.651316,45.54394 -73.651044,45.544401 -73.651011,45.544456 -73.651166,45.544501 -73.651227,45.544519 -73.654278,45.545386 -73.654621,45.545483 -73.654753,45.545521\" opacity=\"0.8\" /></g></svg>"
      ],
      "text/plain": [
       "<shapely.geometry.linestring.LineString at 0x111e028d0>"
      ]
     },
     "execution_count": 6,
     "metadata": {},
     "output_type": "execute_result"
    }
   ],
   "source": [
    "gdf.geometry[0]"
   ]
  },
  {
   "cell_type": "code",
   "execution_count": 29,
   "metadata": {
    "collapsed": false,
    "deletable": true,
    "editable": true
   },
   "outputs": [
    {
     "data": {
      "text/plain": [
       "array([None, 'Voiture / Moto', 'À pied, Transport collectif',\n",
       "       'Transport collectif', 'À pied', 'Vélo',\n",
       "       'À pied, Transport collectif, Vélo',\n",
       "       'Transport collectif, Voiture / Moto', 'À pied, Vélo',\n",
       "       'À pied, Voiture / Moto, Vélo', 'Autopartage', 'Autre',\n",
       "       'Transport collectif, Vélo',\n",
       "       'À pied, Transport collectif, Voiture / Moto',\n",
       "       'Transport collectif, Voiture / Moto, Vélo',\n",
       "       'À pied, Voiture / Moto', 'Voiture / Moto, Vélo', 'Taxi', 'ND',\n",
       "       'Taxi, Vélo', 'À pied, Autopartage, Vélo',\n",
       "       'Autopartage, Transport collectif, Voiture / Moto',\n",
       "       'Taxi, Voiture / Moto', 'À pied, Autopartage, Voiture / Moto',\n",
       "       'Autopartage, Autre', 'À pied, Taxi, Vélo', 'Autopartage, Taxi',\n",
       "       'Autopartage, Voiture / Moto',\n",
       "       'Autopartage, Autre, Voiture / Moto',\n",
       "       'Autopartage, Transport collectif',\n",
       "       'À pied, Transport collectif, Voiture / Moto, Vélo',\n",
       "       'Autre, Transport collectif', 'À pied, Autre, Transport collectif',\n",
       "       'Autre, Vélo', 'Autre, Taxi',\n",
       "       'À pied, Autopartage, Autre, Transport collectif', 'À pied, Autre',\n",
       "       'Autre, Voiture / Moto', 'À pied, Taxi',\n",
       "       'Autre, Transport collectif, Voiture / Moto', 'Autopartage, Vélo',\n",
       "       'À pied, Autopartage', 'Autopartage, Autre, Taxi',\n",
       "       'Autre, Voiture / Moto, Vélo', 'Taxi, Transport collectif',\n",
       "       'Autopartage, Transport collectif, Vélo',\n",
       "       'À pied, Taxi, Transport collectif',\n",
       "       'Taxi, Transport collectif, Voiture / Moto',\n",
       "       'À pied, Autopartage, Transport collectif',\n",
       "       'Autopartage, Taxi, Voiture / Moto',\n",
       "       'À pied, Taxi, Voiture / Moto',\n",
       "       'Autopartage, Autre, Transport collectif',\n",
       "       'À pied, Taxi, Transport collectif, Vélo',\n",
       "       'Autre, Taxi, Transport collectif',\n",
       "       'À pied, Autre, Voiture / Moto', 'Taxi, Voiture / Moto, Vélo',\n",
       "       'À pied, Autopartage, Taxi', 'À pied, Taxi, Voiture / Moto, Vélo',\n",
       "       'À pied, Autopartage, Taxi, Transport collectif',\n",
       "       'Autre, Transport collectif, Vélo',\n",
       "       'À pied, Autopartage, Autre, Taxi, Transport collectif, Voiture / Moto, Vélo',\n",
       "       'Autre, Taxi, Vélo', 'À pied, Autopartage, Autre',\n",
       "       'À pied, Autopartage, Transport collectif, Voiture / Moto',\n",
       "       'Autopartage, Transport collectif, Voiture / Moto, Vélo',\n",
       "       'Autopartage, Taxi, Transport collectif, Voiture / Moto',\n",
       "       'Taxi, Transport collectif, Vélo',\n",
       "       'À pied, Autre, Transport collectif, Voiture / Moto',\n",
       "       'À pied, Autre, Vélo',\n",
       "       'À pied, Taxi, Transport collectif, Voiture / Moto, Vélo'],\n",
       "      dtype=object)"
      ]
     },
     "execution_count": 29,
     "metadata": {},
     "output_type": "execute_result"
    }
   ],
   "source": [
    "# total of 70 unique travel modes\n",
    "gdf['mode'].unique()"
   ]
  },
  {
   "cell_type": "code",
   "execution_count": 35,
   "metadata": {
    "collapsed": false,
    "deletable": true,
    "editable": true
   },
   "outputs": [
    {
     "data": {
      "text/plain": [
       "0                                   None\n",
       "1                                   None\n",
       "2                                   None\n",
       "3                       [Voiture / Moto]\n",
       "4                                   None\n",
       "5                                   None\n",
       "6                                   None\n",
       "7                                   None\n",
       "8                                   None\n",
       "9                                   None\n",
       "10                                  None\n",
       "11                                  None\n",
       "12                                  None\n",
       "13                      [Voiture / Moto]\n",
       "14                                  None\n",
       "15        [À pied,  Transport collectif]\n",
       "16                 [Transport collectif]\n",
       "17                                  None\n",
       "18                                  None\n",
       "19                              [À pied]\n",
       "20                      [Voiture / Moto]\n",
       "21                      [Voiture / Moto]\n",
       "22                 [Transport collectif]\n",
       "23                                  None\n",
       "24                              [À pied]\n",
       "25                                [Vélo]\n",
       "26                      [Voiture / Moto]\n",
       "27                                  None\n",
       "28                                [Vélo]\n",
       "29                                  None\n",
       "                       ...              \n",
       "185255                              None\n",
       "185256                              None\n",
       "185257                              None\n",
       "185258                              None\n",
       "185259                              None\n",
       "185260                  [Voiture / Moto]\n",
       "185261                            [Vélo]\n",
       "185262                              None\n",
       "185263                              None\n",
       "185264                  [Voiture / Moto]\n",
       "185265                              None\n",
       "185266                              None\n",
       "185267                              None\n",
       "185268                              None\n",
       "185269                            [Vélo]\n",
       "185270                              None\n",
       "185271             [Transport collectif]\n",
       "185272                              None\n",
       "185273                              None\n",
       "185274                              None\n",
       "185275                              None\n",
       "185276                              None\n",
       "185277                              None\n",
       "185278                              None\n",
       "185279                              None\n",
       "185280                              None\n",
       "185281             [Transport collectif]\n",
       "185282                              None\n",
       "185283                              None\n",
       "185284                              None\n",
       "Name: mode, Length: 185285, dtype: object"
      ]
     },
     "execution_count": 35,
     "metadata": {},
     "output_type": "execute_result"
    }
   ],
   "source": [
    "gdf['mode'].str.split(',')"
   ]
  },
  {
   "cell_type": "code",
   "execution_count": null,
   "metadata": {
    "collapsed": true,
    "deletable": true,
    "editable": true
   },
   "outputs": [],
   "source": []
  },
  {
   "cell_type": "code",
   "execution_count": null,
   "metadata": {
    "collapsed": true,
    "deletable": true,
    "editable": true
   },
   "outputs": [],
   "source": []
  },
  {
   "cell_type": "code",
   "execution_count": null,
   "metadata": {
    "collapsed": true,
    "deletable": true,
    "editable": true
   },
   "outputs": [],
   "source": []
  }
 ],
 "metadata": {
  "kernelspec": {
   "display_name": "Python (autotrip)",
   "language": "python",
   "name": "autotrip"
  },
  "language_info": {
   "codemirror_mode": {
    "name": "ipython",
    "version": 3
   },
   "file_extension": ".py",
   "mimetype": "text/x-python",
   "name": "python",
   "nbconvert_exporter": "python",
   "pygments_lexer": "ipython3",
   "version": "3.6.5"
  }
 },
 "nbformat": 4,
 "nbformat_minor": 2
}
