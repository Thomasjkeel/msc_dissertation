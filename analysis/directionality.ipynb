{
 "cells": [
  {
   "cell_type": "markdown",
   "metadata": {},
   "source": [
    "## Plan:\n",
    "- calculate the resultant direction from magnitude (distance) and direction\n",
    "- build an example windrose for a journey\n",
    "\n",
    "#### Difficulties:\n",
    "- how to determine direction using projection\n",
    "\n",
    "#### References:\n",
    "- https://nbviewer.jupyter.org/github/pysal/giddy/blob/master/notebooks/directional.ipynb"
   ]
  },
  {
   "cell_type": "code",
   "execution_count": 2,
   "metadata": {
    "collapsed": true
   },
   "outputs": [],
   "source": [
    "import geopandas as gpd\n",
    "import matplotlib.pyplot as plt\n",
    "import pandas as pd\n",
    "import numpy as np\n",
    "import seaborn as sns\n",
    "\n",
    "%matplotlib inline"
   ]
  },
  {
   "cell_type": "code",
   "execution_count": 3,
   "metadata": {
    "collapsed": true
   },
   "outputs": [],
   "source": [
    "gdf = gpd.read_file(\"../app_route_data/trajets_mtl_trajet_2017.shp\", encoding='utf-8') # utf-8 needed to read french letters"
   ]
  },
  {
   "cell_type": "code",
   "execution_count": 4,
   "metadata": {
    "collapsed": false
   },
   "outputs": [
    {
     "data": {
      "image/svg+xml": [
       "<svg xmlns=\"http://www.w3.org/2000/svg\" xmlns:xlink=\"http://www.w3.org/1999/xlink\" width=\"100.0\" height=\"100.0\" viewBox=\"-73.65507324 45.54336976 0.004218479999991587 0.0028724800000077266\" preserveAspectRatio=\"xMinYMin meet\"><g transform=\"matrix(1,0,0,-1,0,91.089612)\"><polyline fill=\"none\" stroke=\"#66cc99\" stroke-width=\"8.436959999983174e-05\" points=\"-73.651166,45.544501 -73.651227,45.544519 -73.653826,45.545258 -73.654753,45.545521 -73.654917,45.545565 -73.654615,45.546086 -73.65365,45.545816 -73.653426,45.545753 -73.653625,45.545809 -73.65365,45.545816 -73.654615,45.546086 -73.654917,45.545565 -73.654753,45.545521 -73.654167,45.545354 -73.651227,45.544519 -73.651166,45.544501 -73.651457,45.543993 -73.651702,45.543567 -73.651561,45.543526 -73.651316,45.54394 -73.651044,45.544401 -73.651011,45.544456 -73.651166,45.544501 -73.651227,45.544519 -73.654278,45.545386 -73.654621,45.545483 -73.654753,45.545521\" opacity=\"0.8\" /></g></svg>"
      ],
      "text/plain": [
       "<shapely.geometry.linestring.LineString at 0x113115940>"
      ]
     },
     "execution_count": 4,
     "metadata": {},
     "output_type": "execute_result"
    }
   ],
   "source": [
    "gdf.geometry[0]"
   ]
  },
  {
   "cell_type": "code",
   "execution_count": null,
   "metadata": {
    "collapsed": true
   },
   "outputs": [],
   "source": []
  }
 ],
 "metadata": {
  "kernelspec": {
   "display_name": "Python (autotrip)",
   "language": "python",
   "name": "autotrip"
  },
  "language_info": {
   "codemirror_mode": {
    "name": "ipython",
    "version": 3
   },
   "file_extension": ".py",
   "mimetype": "text/x-python",
   "name": "python",
   "nbconvert_exporter": "python",
   "pygments_lexer": "ipython3",
   "version": "3.6.5"
  }
 },
 "nbformat": 4,
 "nbformat_minor": 2
}
