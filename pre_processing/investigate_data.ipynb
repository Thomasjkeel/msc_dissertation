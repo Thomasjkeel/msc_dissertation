{
 "cells": [
  {
   "cell_type": "code",
   "execution_count": 9,
   "metadata": {
    "collapsed": false
   },
   "outputs": [],
   "source": [
    "import geopandas as gpd\n",
    "import matplotlib.pyplot as plt\n",
    "\n",
    "%matplotlib inline"
   ]
  },
  {
   "cell_type": "code",
   "execution_count": 2,
   "metadata": {
    "collapsed": false
   },
   "outputs": [],
   "source": [
    "gdf = gpd.read_file(\"app_route_data/trajets_mtl_trajet_2017.shp\")"
   ]
  },
  {
   "cell_type": "code",
   "execution_count": 3,
   "metadata": {
    "collapsed": false
   },
   "outputs": [
    {
     "name": "stdout",
     "output_type": "stream",
     "text": [
      "<class 'geopandas.geodataframe.GeoDataFrame'>\n",
      "RangeIndex: 185285 entries, 0 to 185284\n",
      "Data columns (total 6 columns):\n",
      "id_trip      185285 non-null int64\n",
      "mode         74218 non-null object\n",
      "purpose      74218 non-null object\n",
      "starttime    185285 non-null object\n",
      "endtime      185285 non-null object\n",
      "geometry     185285 non-null object\n",
      "dtypes: int64(1), object(5)\n",
      "memory usage: 8.5+ MB\n",
      "None\n"
     ]
    }
   ],
   "source": [
    "print(gdf.info())"
   ]
  },
  {
   "cell_type": "code",
   "execution_count": 15,
   "metadata": {
    "collapsed": false
   },
   "outputs": [
    {
     "name": "stdout",
     "output_type": "stream",
     "text": [
      "2017-09-18 04:16:58UTC 2017-10-18 03:50:08UTC\n"
     ]
    }
   ],
   "source": [
    "print(gdf.starttime.min(), gdf.starttime.max())"
   ]
  },
  {
   "cell_type": "code",
   "execution_count": 4,
   "metadata": {
    "collapsed": false
   },
   "outputs": [
    {
     "data": {
      "text/html": [
       "<div>\n",
       "<style scoped>\n",
       "    .dataframe tbody tr th:only-of-type {\n",
       "        vertical-align: middle;\n",
       "    }\n",
       "\n",
       "    .dataframe tbody tr th {\n",
       "        vertical-align: top;\n",
       "    }\n",
       "\n",
       "    .dataframe thead th {\n",
       "        text-align: right;\n",
       "    }\n",
       "</style>\n",
       "<table border=\"1\" class=\"dataframe\">\n",
       "  <thead>\n",
       "    <tr style=\"text-align: right;\">\n",
       "      <th></th>\n",
       "      <th>id_trip</th>\n",
       "      <th>mode</th>\n",
       "      <th>purpose</th>\n",
       "      <th>starttime</th>\n",
       "      <th>endtime</th>\n",
       "      <th>geometry</th>\n",
       "    </tr>\n",
       "  </thead>\n",
       "  <tbody>\n",
       "    <tr>\n",
       "      <th>0</th>\n",
       "      <td>1547</td>\n",
       "      <td>None</td>\n",
       "      <td>None</td>\n",
       "      <td>2017-09-18 04:16:58UTC</td>\n",
       "      <td>2017-09-18 04:26:26UTC</td>\n",
       "      <td>LINESTRING (-73.651166 45.544501, -73.65122700...</td>\n",
       "    </tr>\n",
       "    <tr>\n",
       "      <th>1</th>\n",
       "      <td>308312</td>\n",
       "      <td>None</td>\n",
       "      <td>None</td>\n",
       "      <td>2017-09-18 06:17:46UTC</td>\n",
       "      <td>2017-09-18 06:58:49UTC</td>\n",
       "      <td>LINESTRING (-73.650987 45.544496, -73.651011 4...</td>\n",
       "    </tr>\n",
       "    <tr>\n",
       "      <th>2</th>\n",
       "      <td>384772</td>\n",
       "      <td>None</td>\n",
       "      <td>None</td>\n",
       "      <td>2017-09-18 09:30:24UTC</td>\n",
       "      <td>2017-09-18 10:17:28UTC</td>\n",
       "      <td>(LINESTRING (-73.832869 45.636068, -73.831779 ...</td>\n",
       "    </tr>\n",
       "    <tr>\n",
       "      <th>3</th>\n",
       "      <td>150744</td>\n",
       "      <td>Voiture / Moto</td>\n",
       "      <td>Reconduire / aller chercher une personne</td>\n",
       "      <td>2017-09-18 10:02:50UTC</td>\n",
       "      <td>2017-09-18 10:17:12UTC</td>\n",
       "      <td>LINESTRING (-73.646385 45.54629, -73.646064999...</td>\n",
       "    </tr>\n",
       "    <tr>\n",
       "      <th>4</th>\n",
       "      <td>199011</td>\n",
       "      <td>None</td>\n",
       "      <td>None</td>\n",
       "      <td>2017-09-18 10:18:40UTC</td>\n",
       "      <td>2017-09-18 10:27:44UTC</td>\n",
       "      <td>(LINESTRING (-73.74549500000001 45.55839, -73....</td>\n",
       "    </tr>\n",
       "  </tbody>\n",
       "</table>\n",
       "</div>"
      ],
      "text/plain": [
       "   id_trip            mode                                   purpose  \\\n",
       "0     1547            None                                      None   \n",
       "1   308312            None                                      None   \n",
       "2   384772            None                                      None   \n",
       "3   150744  Voiture / Moto  Reconduire / aller chercher une personne   \n",
       "4   199011            None                                      None   \n",
       "\n",
       "                starttime                 endtime  \\\n",
       "0  2017-09-18 04:16:58UTC  2017-09-18 04:26:26UTC   \n",
       "1  2017-09-18 06:17:46UTC  2017-09-18 06:58:49UTC   \n",
       "2  2017-09-18 09:30:24UTC  2017-09-18 10:17:28UTC   \n",
       "3  2017-09-18 10:02:50UTC  2017-09-18 10:17:12UTC   \n",
       "4  2017-09-18 10:18:40UTC  2017-09-18 10:27:44UTC   \n",
       "\n",
       "                                            geometry  \n",
       "0  LINESTRING (-73.651166 45.544501, -73.65122700...  \n",
       "1  LINESTRING (-73.650987 45.544496, -73.651011 4...  \n",
       "2  (LINESTRING (-73.832869 45.636068, -73.831779 ...  \n",
       "3  LINESTRING (-73.646385 45.54629, -73.646064999...  \n",
       "4  (LINESTRING (-73.74549500000001 45.55839, -73....  "
      ]
     },
     "execution_count": 4,
     "metadata": {},
     "output_type": "execute_result"
    }
   ],
   "source": [
    "gdf.head()"
   ]
  },
  {
   "cell_type": "code",
   "execution_count": 22,
   "metadata": {
    "collapsed": false
   },
   "outputs": [
    {
     "data": {
      "image/svg+xml": [
       "<svg xmlns=\"http://www.w3.org/2000/svg\" xmlns:xlink=\"http://www.w3.org/1999/xlink\" width=\"100.0\" height=\"100.0\" viewBox=\"-73.65507324 45.54336976 0.004218479999991587 0.0028724800000077266\" preserveAspectRatio=\"xMinYMin meet\"><g transform=\"matrix(1,0,0,-1,0,91.089612)\"><polyline fill=\"none\" stroke=\"#66cc99\" stroke-width=\"8.436959999983174e-05\" points=\"-73.651166,45.544501 -73.651227,45.544519 -73.653826,45.545258 -73.654753,45.545521 -73.654917,45.545565 -73.654615,45.546086 -73.65365,45.545816 -73.653426,45.545753 -73.653625,45.545809 -73.65365,45.545816 -73.654615,45.546086 -73.654917,45.545565 -73.654753,45.545521 -73.654167,45.545354 -73.651227,45.544519 -73.651166,45.544501 -73.651457,45.543993 -73.651702,45.543567 -73.651561,45.543526 -73.651316,45.54394 -73.651044,45.544401 -73.651011,45.544456 -73.651166,45.544501 -73.651227,45.544519 -73.654278,45.545386 -73.654621,45.545483 -73.654753,45.545521\" opacity=\"0.8\" /></g></svg>"
      ],
      "text/plain": [
       "<shapely.geometry.linestring.LineString at 0x11471d470>"
      ]
     },
     "execution_count": 22,
     "metadata": {},
     "output_type": "execute_result"
    }
   ],
   "source": [
    "gdf.geometry[0]"
   ]
  },
  {
   "cell_type": "code",
   "execution_count": 5,
   "metadata": {
    "collapsed": false,
    "scrolled": true
   },
   "outputs": [
    {
     "data": {
      "text/plain": [
       "Voiture / Moto                                                                   24744\n",
       "VÃ©lo                                                                            13595\n",
       "Transport collectif                                                              12935\n",
       "Ã pied                                                                          11062\n",
       "Ã pied, Transport collectif                                                      6234\n",
       "Transport collectif, Voiture / Moto                                                948\n",
       "Autopartage                                                                        908\n",
       "Ã pied, VÃ©lo                                                                     766\n",
       "Ã pied, Transport collectif, Voiture / Moto                                       567\n",
       "Ã pied, Voiture / Moto                                                            494\n",
       "Taxi                                                                               350\n",
       "Transport collectif, VÃ©lo                                                         233\n",
       "Autre                                                                              197\n",
       "Ã pied, Transport collectif, VÃ©lo                                                192\n",
       "ND                                                                                 171\n",
       "Voiture / Moto, VÃ©lo                                                              127\n",
       "Autopartage, Voiture / Moto                                                        102\n",
       "Taxi, Voiture / Moto                                                                72\n",
       "Ã pied, Autopartage                                                                67\n",
       "Ã pied, Taxi                                                                       46\n",
       "Taxi, Transport collectif                                                           44\n",
       "Ã pied, Voiture / Moto, VÃ©lo                                                      41\n",
       "Taxi, VÃ©lo                                                                         39\n",
       "Autopartage, Transport collectif                                                    30\n",
       "Ã pied, Taxi, Transport collectif                                                  24\n",
       "Autre, Voiture / Moto                                                               22\n",
       "Autre, Transport collectif                                                          21\n",
       "Ã pied, Autopartage, Transport collectif                                           17\n",
       "Ã pied, Transport collectif, Voiture / Moto, VÃ©lo                                 14\n",
       "Transport collectif, Voiture / Moto, VÃ©lo                                          12\n",
       "                                                                                 ...  \n",
       "Autre, Taxi                                                                          7\n",
       "Autopartage, Autre                                                                   7\n",
       "Ã pied, Autopartage, Transport collectif, Voiture / Moto                            4\n",
       "Ã pied, Taxi, Voiture / Moto                                                        4\n",
       "Autre, Transport collectif, Voiture / Moto                                           4\n",
       "Taxi, Transport collectif, Voiture / Moto                                            3\n",
       "Autopartage, Transport collectif, VÃ©lo                                              3\n",
       "Autopartage, Taxi, Voiture / Moto                                                    3\n",
       "Autre, Taxi, Transport collectif                                                     2\n",
       "Ã pied, Autopartage, Autre, Transport collectif                                     2\n",
       "Taxi, Voiture / Moto, VÃ©lo                                                          2\n",
       "Autopartage, Autre, Transport collectif                                              2\n",
       "Ã pied, Autopartage, Autre                                                          2\n",
       "Autre, Transport collectif, VÃ©lo                                                    2\n",
       "Ã pied, Taxi, Transport collectif, VÃ©lo                                            2\n",
       "Ã pied, Autopartage, Taxi                                                           1\n",
       "Ã pied, Autre, Voiture / Moto                                                       1\n",
       "Autopartage, Autre, Voiture / Moto                                                   1\n",
       "Ã pied, Autopartage, Autre, Taxi, Transport collectif, Voiture / Moto, VÃ©lo        1\n",
       "Ã pied, Taxi, Transport collectif, Voiture / Moto, VÃ©lo                            1\n",
       "Autopartage, Taxi, Transport collectif, Voiture / Moto                               1\n",
       "Taxi, Transport collectif, VÃ©lo                                                     1\n",
       "Ã pied, Autopartage, Taxi, Transport collectif                                      1\n",
       "Ã pied, Autre, Transport collectif, Voiture / Moto                                  1\n",
       "Autopartage, Transport collectif, Voiture / Moto, VÃ©lo                              1\n",
       "Ã pied, Autre, VÃ©lo                                                                1\n",
       "Autopartage, Autre, Taxi                                                             1\n",
       "Autre, Voiture / Moto, VÃ©lo                                                         1\n",
       "Autre, Taxi, VÃ©lo                                                                   1\n",
       "Ã pied, Taxi, Voiture / Moto, VÃ©lo                                                 1\n",
       "Name: mode, Length: 69, dtype: int64"
      ]
     },
     "execution_count": 5,
     "metadata": {},
     "output_type": "execute_result"
    }
   ],
   "source": [
    "gdf['mode'].value_counts()"
   ]
  },
  {
   "cell_type": "code",
   "execution_count": 12,
   "metadata": {
    "collapsed": false
   },
   "outputs": [
    {
     "data": {
      "text/plain": [
       "<matplotlib.axes._subplots.AxesSubplot at 0x114e33b00>"
      ]
     },
     "execution_count": 12,
     "metadata": {},
     "output_type": "execute_result"
    },
    {
     "data": {
      "image/png": "[encoded data removed]",
      "text/plain": [
       "<Figure size 432x288 with 1 Axes>"
      ]
     },
     "metadata": {},
     "output_type": "display_data"
    }
   ],
   "source": [
    "gdf['purpose'].value_counts().plot(kind='barh')\n",
    "## IN order\n",
    "# ND\n",
    "# Health\n",
    "# Other \n",
    "# Renew / pick up a person\n",
    "# Education\n",
    "# Meal / snack / coffee\n",
    "# Shopping / shopping\n",
    "# Leisure\n",
    "# Work / Business Appointment\n",
    "# Return to my home"
   ]
  },
  {
   "cell_type": "code",
   "execution_count": null,
   "metadata": {
    "collapsed": true
   },
   "outputs": [],
   "source": []
  },
  {
   "cell_type": "code",
   "execution_count": null,
   "metadata": {
    "collapsed": true
   },
   "outputs": [],
   "source": []
  },
  {
   "cell_type": "code",
   "execution_count": null,
   "metadata": {
    "collapsed": true
   },
   "outputs": [],
   "source": []
  }
 ],
 "metadata": {
  "kernelspec": {
   "display_name": "Python (autotrip)",
   "language": "python",
   "name": "autotrip"
  },
  "language_info": {
   "codemirror_mode": {
    "name": "ipython",
    "version": 3
   },
   "file_extension": ".py",
   "mimetype": "text/x-python",
   "name": "python",
   "nbconvert_exporter": "python",
   "pygments_lexer": "ipython3",
   "version": "3.6.2"
  }
 },
 "nbformat": 4,
 "nbformat_minor": 2
}
