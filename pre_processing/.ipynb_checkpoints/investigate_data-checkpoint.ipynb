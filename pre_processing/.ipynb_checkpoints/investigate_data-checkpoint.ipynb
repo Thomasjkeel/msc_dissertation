{
 "cells": [
  {
   "cell_type": "code",
   "execution_count": 26,
   "metadata": {
    "collapsed": false,
    "deletable": true,
    "editable": true
   },
   "outputs": [],
   "source": [
    "import geopandas as gpd\n",
    "import matplotlib.pyplot as plt\n",
    "import mplleaflet\n",
    "\n",
    "%matplotlib inline"
   ]
  },
  {
   "cell_type": "code",
   "execution_count": 2,
   "metadata": {
    "collapsed": false,
    "deletable": true,
    "editable": true
   },
   "outputs": [],
   "source": [
    "gdf = gpd.read_file(\"../app_route_data/trajets_mtl_trajet_2017.shp\", encoding='utf-8') # utf-8 needed to read french letters"
   ]
  },
  {
   "cell_type": "code",
   "execution_count": 28,
   "metadata": {
    "collapsed": true
   },
   "outputs": [],
   "source": [
    "CAN_LAM = {'init': 'epsg:3347'}"
   ]
  },
  {
   "cell_type": "code",
   "execution_count": 3,
   "metadata": {
    "collapsed": false,
    "deletable": true,
    "editable": true
   },
   "outputs": [
    {
     "name": "stdout",
     "output_type": "stream",
     "text": [
      "<class 'geopandas.geodataframe.GeoDataFrame'>\n",
      "RangeIndex: 185285 entries, 0 to 185284\n",
      "Data columns (total 7 columns):\n",
      "id_trip       185285 non-null int64\n",
      "mode          74218 non-null object\n",
      "purpose       74218 non-null object\n",
      "starttime     185285 non-null object\n",
      "endtime       185285 non-null object\n",
      "journeytim    185285 non-null int64\n",
      "geometry      185285 non-null object\n",
      "dtypes: int64(2), object(5)\n",
      "memory usage: 9.9+ MB\n",
      "None\n"
     ]
    }
   ],
   "source": [
    "print(gdf.info())"
   ]
  },
  {
   "cell_type": "code",
   "execution_count": 4,
   "metadata": {
    "collapsed": false,
    "deletable": true,
    "editable": true
   },
   "outputs": [
    {
     "name": "stdout",
     "output_type": "stream",
     "text": [
      "2017-09-18 04:16:58UTC 2017-10-18 03:50:08UTC\n"
     ]
    }
   ],
   "source": [
    "print(gdf.starttime.min(),\"\\n\", gdf.starttime.max())"
   ]
  },
  {
   "cell_type": "code",
   "execution_count": 5,
   "metadata": {
    "collapsed": false,
    "deletable": true,
    "editable": true
   },
   "outputs": [
    {
     "data": {
      "text/html": [
       "<div>\n",
       "<style scoped>\n",
       "    .dataframe tbody tr th:only-of-type {\n",
       "        vertical-align: middle;\n",
       "    }\n",
       "\n",
       "    .dataframe tbody tr th {\n",
       "        vertical-align: top;\n",
       "    }\n",
       "\n",
       "    .dataframe thead th {\n",
       "        text-align: right;\n",
       "    }\n",
       "</style>\n",
       "<table border=\"1\" class=\"dataframe\">\n",
       "  <thead>\n",
       "    <tr style=\"text-align: right;\">\n",
       "      <th></th>\n",
       "      <th>id_trip</th>\n",
       "      <th>mode</th>\n",
       "      <th>purpose</th>\n",
       "      <th>starttime</th>\n",
       "      <th>endtime</th>\n",
       "      <th>journeytim</th>\n",
       "      <th>geometry</th>\n",
       "    </tr>\n",
       "  </thead>\n",
       "  <tbody>\n",
       "    <tr>\n",
       "      <th>0</th>\n",
       "      <td>1547</td>\n",
       "      <td>None</td>\n",
       "      <td>None</td>\n",
       "      <td>2017-09-18 04:16:58UTC</td>\n",
       "      <td>2017-09-18 04:26:26UTC</td>\n",
       "      <td>568</td>\n",
       "      <td>LINESTRING (-73.651166 45.544501, -73.65122700...</td>\n",
       "    </tr>\n",
       "    <tr>\n",
       "      <th>1</th>\n",
       "      <td>308312</td>\n",
       "      <td>None</td>\n",
       "      <td>None</td>\n",
       "      <td>2017-09-18 06:17:46UTC</td>\n",
       "      <td>2017-09-18 06:58:49UTC</td>\n",
       "      <td>2463</td>\n",
       "      <td>LINESTRING (-73.650987 45.544496, -73.651011 4...</td>\n",
       "    </tr>\n",
       "    <tr>\n",
       "      <th>2</th>\n",
       "      <td>384772</td>\n",
       "      <td>None</td>\n",
       "      <td>None</td>\n",
       "      <td>2017-09-18 09:30:24UTC</td>\n",
       "      <td>2017-09-18 10:17:28UTC</td>\n",
       "      <td>2824</td>\n",
       "      <td>(LINESTRING (-73.832869 45.636068, -73.831779 ...</td>\n",
       "    </tr>\n",
       "    <tr>\n",
       "      <th>3</th>\n",
       "      <td>150744</td>\n",
       "      <td>car</td>\n",
       "      <td>pick_up_a_person</td>\n",
       "      <td>2017-09-18 10:02:50UTC</td>\n",
       "      <td>2017-09-18 10:17:12UTC</td>\n",
       "      <td>862</td>\n",
       "      <td>LINESTRING (-73.646385 45.54629, -73.646064999...</td>\n",
       "    </tr>\n",
       "    <tr>\n",
       "      <th>4</th>\n",
       "      <td>199011</td>\n",
       "      <td>None</td>\n",
       "      <td>None</td>\n",
       "      <td>2017-09-18 10:18:40UTC</td>\n",
       "      <td>2017-09-18 10:27:44UTC</td>\n",
       "      <td>544</td>\n",
       "      <td>(LINESTRING (-73.74549500000001 45.55839, -73....</td>\n",
       "    </tr>\n",
       "  </tbody>\n",
       "</table>\n",
       "</div>"
      ],
      "text/plain": [
       "   id_trip  mode           purpose               starttime  \\\n",
       "0     1547  None              None  2017-09-18 04:16:58UTC   \n",
       "1   308312  None              None  2017-09-18 06:17:46UTC   \n",
       "2   384772  None              None  2017-09-18 09:30:24UTC   \n",
       "3   150744   car  pick_up_a_person  2017-09-18 10:02:50UTC   \n",
       "4   199011  None              None  2017-09-18 10:18:40UTC   \n",
       "\n",
       "                  endtime  journeytim  \\\n",
       "0  2017-09-18 04:26:26UTC         568   \n",
       "1  2017-09-18 06:58:49UTC        2463   \n",
       "2  2017-09-18 10:17:28UTC        2824   \n",
       "3  2017-09-18 10:17:12UTC         862   \n",
       "4  2017-09-18 10:27:44UTC         544   \n",
       "\n",
       "                                            geometry  \n",
       "0  LINESTRING (-73.651166 45.544501, -73.65122700...  \n",
       "1  LINESTRING (-73.650987 45.544496, -73.651011 4...  \n",
       "2  (LINESTRING (-73.832869 45.636068, -73.831779 ...  \n",
       "3  LINESTRING (-73.646385 45.54629, -73.646064999...  \n",
       "4  (LINESTRING (-73.74549500000001 45.55839, -73....  "
      ]
     },
     "execution_count": 5,
     "metadata": {},
     "output_type": "execute_result"
    }
   ],
   "source": [
    "gdf.head()"
   ]
  },
  {
   "cell_type": "code",
   "execution_count": 7,
   "metadata": {
    "collapsed": false,
    "deletable": true,
    "editable": true
   },
   "outputs": [
    {
     "data": {
      "text/plain": [
       "array([None, 'car', 'walking, public_transport', 'public_transport',\n",
       "       'walking', 'cycling', 'walking, public_transport, cycling',\n",
       "       'public_transport, car', 'walking, cycling',\n",
       "       'walking, car, cycling', 'car_sharing', 'other',\n",
       "       'public_transport, cycling', 'walking, public_transport, car',\n",
       "       'public_transport, car, cycling', 'walking, car', 'car, cycling',\n",
       "       'taxi', 'not_available', 'taxi, cycling',\n",
       "       'walking, car_sharing, cycling',\n",
       "       'car_sharing, public_transport, car', 'taxi, car',\n",
       "       'walking, car_sharing, car', 'car_sharing, other',\n",
       "       'walking, taxi, cycling', 'car_sharing, taxi', 'car_sharing, car',\n",
       "       'car_sharing, other, car', 'car_sharing, public_transport',\n",
       "       'walking, public_transport, car, cycling',\n",
       "       'other, public_transport', 'walking, other, public_transport',\n",
       "       'other, cycling', 'other, taxi',\n",
       "       'walking, car_sharing, other, public_transport', 'walking, other',\n",
       "       'other, car', 'walking, taxi', 'other, public_transport, car',\n",
       "       'car_sharing, cycling', 'walking, car_sharing',\n",
       "       'car_sharing, other, taxi', 'other, car, cycling',\n",
       "       'taxi, public_transport', 'car_sharing, public_transport, cycling',\n",
       "       'walking, taxi, public_transport', 'taxi, public_transport, car',\n",
       "       'walking, car_sharing, public_transport', 'car_sharing, taxi, car',\n",
       "       'walking, taxi, car', 'car_sharing, other, public_transport',\n",
       "       'walking, taxi, public_transport, cycling',\n",
       "       'other, taxi, public_transport', 'walking, other, car',\n",
       "       'taxi, car, cycling', 'walking, car_sharing, taxi',\n",
       "       'walking, taxi, car, cycling',\n",
       "       'walking, car_sharing, taxi, public_transport',\n",
       "       'other, public_transport, cycling',\n",
       "       'walking, car_sharing, other, taxi, public_transport, car, cycling',\n",
       "       'other, taxi, cycling', 'walking, car_sharing, other',\n",
       "       'walking, car_sharing, public_transport, car',\n",
       "       'car_sharing, public_transport, car, cycling',\n",
       "       'car_sharing, taxi, public_transport, car',\n",
       "       'taxi, public_transport, cycling',\n",
       "       'walking, other, public_transport, car', 'walking, other, cycling',\n",
       "       'walking, taxi, public_transport, car, cycling'], dtype=object)"
      ]
     },
     "execution_count": 7,
     "metadata": {},
     "output_type": "execute_result"
    }
   ],
   "source": [
    "# total of 70 unique travel modes\n",
    "gdf['mode'].unique()"
   ]
  },
  {
   "cell_type": "code",
   "execution_count": null,
   "metadata": {
    "collapsed": true,
    "deletable": true,
    "editable": true
   },
   "outputs": [],
   "source": []
  }
 ],
 "metadata": {
  "kernelspec": {
   "display_name": "Python (autotrip)",
   "language": "python",
   "name": "autotrip"
  },
  "language_info": {
   "codemirror_mode": {
    "name": "ipython",
    "version": 3
   },
   "file_extension": ".py",
   "mimetype": "text/x-python",
   "name": "python",
   "nbconvert_exporter": "python",
   "pygments_lexer": "ipython3",
   "version": "3.6.5"
  }
 },
 "nbformat": 4,
 "nbformat_minor": 2
}
