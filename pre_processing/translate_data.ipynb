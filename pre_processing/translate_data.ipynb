{
 "cells": [
  {
   "cell_type": "markdown",
   "metadata": {},
   "source": [
    "## Summary\n",
    "Notebook to translate the mode and purpose into english\n",
    "get script"
   ]
  },
  {
   "cell_type": "code",
   "execution_count": 1,
   "metadata": {},
   "outputs": [],
   "source": [
    "import pandas as pd\n",
    "import geopandas as gpd\n",
    "import matplotlib.pyplot as plt\n",
    "import shapely\n",
    "\n",
    "%matplotlib inline"
   ]
  },
  {
   "cell_type": "code",
   "execution_count": 2,
   "metadata": {
    "collapsed": true
   },
   "outputs": [],
   "source": [
    "gdf = gpd.read_file(\"../app_route_data/trajets_mtl_trajet_2017.shp\", encoding='utf-8') # utf-8 needed to read french letters"
   ]
  },
  {
   "cell_type": "code",
   "execution_count": 3,
   "metadata": {},
   "outputs": [
    {
     "data": {
      "text/html": [
       "<div>\n",
       "<style scoped>\n",
       "    .dataframe tbody tr th:only-of-type {\n",
       "        vertical-align: middle;\n",
       "    }\n",
       "\n",
       "    .dataframe tbody tr th {\n",
       "        vertical-align: top;\n",
       "    }\n",
       "\n",
       "    .dataframe thead th {\n",
       "        text-align: right;\n",
       "    }\n",
       "</style>\n",
       "<table border=\"1\" class=\"dataframe\">\n",
       "  <thead>\n",
       "    <tr style=\"text-align: right;\">\n",
       "      <th></th>\n",
       "      <th>id_trip</th>\n",
       "      <th>mode</th>\n",
       "      <th>purpose</th>\n",
       "      <th>starttime</th>\n",
       "      <th>endtime</th>\n",
       "      <th>journeytim</th>\n",
       "      <th>distance_m</th>\n",
       "      <th>geometry</th>\n",
       "    </tr>\n",
       "  </thead>\n",
       "  <tbody>\n",
       "    <tr>\n",
       "      <th>0</th>\n",
       "      <td>1547</td>\n",
       "      <td>None</td>\n",
       "      <td>None</td>\n",
       "      <td>2017-09-18 04:16:58UTC</td>\n",
       "      <td>2017-09-18 04:26:26UTC</td>\n",
       "      <td>568</td>\n",
       "      <td>1530.222174</td>\n",
       "      <td>LINESTRING (7624015.797731051 1247372.35912242...</td>\n",
       "    </tr>\n",
       "    <tr>\n",
       "      <th>1</th>\n",
       "      <td>308312</td>\n",
       "      <td>None</td>\n",
       "      <td>None</td>\n",
       "      <td>2017-09-18 06:17:46UTC</td>\n",
       "      <td>2017-09-18 06:58:49UTC</td>\n",
       "      <td>2463</td>\n",
       "      <td>324.869460</td>\n",
       "      <td>LINESTRING (7624029.565886391 1247375.82561127...</td>\n",
       "    </tr>\n",
       "    <tr>\n",
       "      <th>2</th>\n",
       "      <td>384772</td>\n",
       "      <td>None</td>\n",
       "      <td>None</td>\n",
       "      <td>2017-09-18 09:30:24UTC</td>\n",
       "      <td>2017-09-18 10:17:28UTC</td>\n",
       "      <td>2824</td>\n",
       "      <td>32009.701647</td>\n",
       "      <td>(LINESTRING (7607307.10774919 1253237.70694762...</td>\n",
       "    </tr>\n",
       "    <tr>\n",
       "      <th>3</th>\n",
       "      <td>150744</td>\n",
       "      <td>car</td>\n",
       "      <td>pick_up_a_person</td>\n",
       "      <td>2017-09-18 10:02:50UTC</td>\n",
       "      <td>2017-09-18 10:17:12UTC</td>\n",
       "      <td>862</td>\n",
       "      <td>9935.922336</td>\n",
       "      <td>LINESTRING (7624322.265039731 1247672.97005955...</td>\n",
       "    </tr>\n",
       "    <tr>\n",
       "      <th>4</th>\n",
       "      <td>199011</td>\n",
       "      <td>None</td>\n",
       "      <td>None</td>\n",
       "      <td>2017-09-18 10:18:40UTC</td>\n",
       "      <td>2017-09-18 10:27:44UTC</td>\n",
       "      <td>544</td>\n",
       "      <td>563.806088</td>\n",
       "      <td>(LINESTRING (7616402.39358294 1246769.19969164...</td>\n",
       "    </tr>\n",
       "  </tbody>\n",
       "</table>\n",
       "</div>"
      ],
      "text/plain": [
       "   id_trip  mode           purpose               starttime  \\\n",
       "0     1547  None              None  2017-09-18 04:16:58UTC   \n",
       "1   308312  None              None  2017-09-18 06:17:46UTC   \n",
       "2   384772  None              None  2017-09-18 09:30:24UTC   \n",
       "3   150744   car  pick_up_a_person  2017-09-18 10:02:50UTC   \n",
       "4   199011  None              None  2017-09-18 10:18:40UTC   \n",
       "\n",
       "                  endtime  journeytim    distance_m  \\\n",
       "0  2017-09-18 04:26:26UTC         568   1530.222174   \n",
       "1  2017-09-18 06:58:49UTC        2463    324.869460   \n",
       "2  2017-09-18 10:17:28UTC        2824  32009.701647   \n",
       "3  2017-09-18 10:17:12UTC         862   9935.922336   \n",
       "4  2017-09-18 10:27:44UTC         544    563.806088   \n",
       "\n",
       "                                            geometry  \n",
       "0  LINESTRING (7624015.797731051 1247372.35912242...  \n",
       "1  LINESTRING (7624029.565886391 1247375.82561127...  \n",
       "2  (LINESTRING (7607307.10774919 1253237.70694762...  \n",
       "3  LINESTRING (7624322.265039731 1247672.97005955...  \n",
       "4  (LINESTRING (7616402.39358294 1246769.19969164...  "
      ]
     },
     "execution_count": 3,
     "metadata": {},
     "output_type": "execute_result"
    }
   ],
   "source": [
    "gdf.head()"
   ]
  },
  {
   "cell_type": "code",
   "execution_count": 4,
   "metadata": {
    "scrolled": true
   },
   "outputs": [],
   "source": [
    "purpose_translations = {\"None\":\"None\",'Reconduire / aller chercher une personne':'pick_up_a_person',\n",
    "       \"Travail / Rendez-vous d'affaires\":'work', 'Magasinage / emplettes':'shops',\n",
    "       'Retourner à mon domicile':'returning_home', 'Santé':'health', 'Loisir':'leisure', 'Éducation':'education',\n",
    "       'Autre':'other', 'Repas / collation / café':'cafe', 'ND':'not_available'}\n",
    "if not \"other\" in gdf.purpose.unique():\n",
    "    gdf['purpose'] = gdf.purpose.apply(lambda pur: purpose_translations[pur] if pur else pur)\n",
    "else:\n",
    "    print(\"passed\")"
   ]
  },
  {
   "cell_type": "code",
   "execution_count": 5,
   "metadata": {},
   "outputs": [],
   "source": [
    "mode_translations = {\"Voiture / Moto\":\"car\", \"À pied\":\"walking\", \"Transport collectif\":\"public_transport\",\n",
    "                     \"Autopartage\":\"car_sharing\", \"Vélo\":\"cycling\", \"Taxi\":\"taxi\",\n",
    "                     \"Autre\":\"other\", \"ND\":\"not_available\"}\n",
    "def mode_to_new_name(mode_names):\n",
    "    if mode_names:\n",
    "        mode_list = mode_names.split(',')\n",
    "        translations = []\n",
    "        for mode in mode_list:\n",
    "            translations.append(mode_translations[mode.lstrip()])\n",
    "        return str(translations).strip('[]').replace(\"'\", '')\n",
    "    else:\n",
    "        return mode_names"
   ]
  },
  {
   "cell_type": "code",
   "execution_count": 6,
   "metadata": {},
   "outputs": [],
   "source": [
    "if not \"other\" in gdf['mode'].unique():\n",
    "    gdf['mode'] = gdf['mode'].apply(mode_to_new_name)"
   ]
  },
  {
   "cell_type": "code",
   "execution_count": 7,
   "metadata": {
    "scrolled": true
   },
   "outputs": [
    {
     "data": {
      "text/plain": [
       "array([None, 'car', 'walking, public_transport', 'public_transport',\n",
       "       'walking', 'cycling', 'walking, public_transport, cycling',\n",
       "       'public_transport, car', 'walking, cycling',\n",
       "       'walking, car, cycling', 'car_sharing', 'other',\n",
       "       'public_transport, cycling', 'walking, public_transport, car',\n",
       "       'public_transport, car, cycling', 'walking, car', 'car, cycling',\n",
       "       'taxi', 'not_available', 'taxi, cycling',\n",
       "       'walking, car_sharing, cycling',\n",
       "       'car_sharing, public_transport, car', 'taxi, car',\n",
       "       'walking, car_sharing, car', 'car_sharing, other',\n",
       "       'walking, taxi, cycling', 'car_sharing, taxi', 'car_sharing, car',\n",
       "       'car_sharing, other, car', 'car_sharing, public_transport',\n",
       "       'walking, public_transport, car, cycling',\n",
       "       'other, public_transport', 'walking, other, public_transport',\n",
       "       'other, cycling', 'other, taxi',\n",
       "       'walking, car_sharing, other, public_transport', 'walking, other',\n",
       "       'other, car', 'walking, taxi', 'other, public_transport, car',\n",
       "       'car_sharing, cycling', 'walking, car_sharing',\n",
       "       'car_sharing, other, taxi', 'other, car, cycling',\n",
       "       'taxi, public_transport', 'car_sharing, public_transport, cycling',\n",
       "       'walking, taxi, public_transport', 'taxi, public_transport, car',\n",
       "       'walking, car_sharing, public_transport', 'car_sharing, taxi, car',\n",
       "       'walking, taxi, car', 'car_sharing, other, public_transport',\n",
       "       'walking, taxi, public_transport, cycling',\n",
       "       'other, taxi, public_transport', 'walking, other, car',\n",
       "       'taxi, car, cycling', 'walking, car_sharing, taxi',\n",
       "       'walking, taxi, car, cycling',\n",
       "       'walking, car_sharing, taxi, public_transport',\n",
       "       'other, public_transport, cycling',\n",
       "       'walking, car_sharing, other, taxi, public_transport, car, cycling',\n",
       "       'other, taxi, cycling', 'walking, car_sharing, other',\n",
       "       'walking, car_sharing, public_transport, car',\n",
       "       'car_sharing, public_transport, car, cycling',\n",
       "       'car_sharing, taxi, public_transport, car',\n",
       "       'taxi, public_transport, cycling',\n",
       "       'walking, other, public_transport, car', 'walking, other, cycling',\n",
       "       'walking, taxi, public_transport, car, cycling'], dtype=object)"
      ]
     },
     "execution_count": 7,
     "metadata": {},
     "output_type": "execute_result"
    }
   ],
   "source": [
    "gdf['mode'].unique()"
   ]
  },
  {
   "cell_type": "code",
   "execution_count": 125,
   "metadata": {},
   "outputs": [],
   "source": [
    "## re-save the file\n",
    "# gdf.to_file(\"../app_route_data/trajets_mtl_trajet_2017.shp\", encoding='utf-8')"
   ]
  },
  {
   "cell_type": "markdown",
   "metadata": {},
   "source": [
    "## Translate supplementary data"
   ]
  },
  {
   "cell_type": "code",
   "execution_count": 8,
   "metadata": {},
   "outputs": [],
   "source": [
    "mtl_roads = gpd.read_file('../data/mtl_roads.json')\n",
    "mtl_street_parking = gpd.read_file('../data/signalisation_stationnement.geojson')"
   ]
  },
  {
   "cell_type": "code",
   "execution_count": 9,
   "metadata": {},
   "outputs": [],
   "source": [
    "mtl_land_use = gpd.read_file('../data/mtl_land_use.json')\n",
    "mtl_culture_sites = gpd.read_file('../data/lieuxculturels.json')"
   ]
  },
  {
   "cell_type": "markdown",
   "metadata": {},
   "source": [
    "### MTL ROADS\n",
    "CLASS of roads ->\n",
    "-\tClass 9 - Projected Street \n",
    "-\tclass 8 - Highways \n",
    "-\tclass 7 - Main arteries \n",
    "-\tClass 6 - Secondary arteries \n",
    "-\tClass 5 - Collectors \n",
    "-\tclass 4 - Private \n",
    "-\tclass 3 - Wharf \n",
    "-\tclass 2 - Business Places \n",
    "-\tClass 1 - Certain pedestrian routes \n",
    "-\tClass 0 - Local Streets \n",
    "\n",
    "Circulation direction (CIRC_DIRECTION)\n",
    "-\t1 -> one way in the direction of digitization \n",
    "-\t-1 -> one way in the opposite direction of digitization \n",
    "-\t0 -> both ways "
   ]
  },
  {
   "cell_type": "code",
   "execution_count": 11,
   "metadata": {},
   "outputs": [],
   "source": [
    "mtl_roads.rename(columns={\"CLASSE\":\"CLASS\",\"TYP_VOIE\":\"PATH_TYPE\",\"PATH_NAME\":\"NOM_VOIE\",\n",
    "                          \"DIR_VOIE\":\"DIRECTION\", \"SENS_CIR\":\"CIRC_DIRECTION\"}, inplace=True)"
   ]
  },
  {
   "cell_type": "code",
   "execution_count": 13,
   "metadata": {},
   "outputs": [
    {
     "data": {
      "text/plain": [
       "array(['avenue', 'square', 'highway', 'rue', 'path', 'boulevard',\n",
       "       'terrasse', 'crescent', 'allée', 'alley', 'coast', 'roundabout',\n",
       "       None, 'promenade', 'bridge', 'jardin', 'crest/ridge', 'parc',\n",
       "       'passage', 'road', 'climb', 'impasse', 'circuit', 'rond-point',\n",
       "       'course', 'Lane', 'tunnel', 'crossroads', 'bridge-tunnel'],\n",
       "      dtype=object)"
      ]
     },
     "execution_count": 13,
     "metadata": {},
     "output_type": "execute_result"
    }
   ],
   "source": [
    "## note chemin and voie are grouped into path and place and carré into square\n",
    "path_type_translations = {\"place\":\"square\",\"autoroute\":\"highway\",\"chemin\":\"path\",\"voie\":\"path\",\\\n",
    "                         \"croissant\":\"crescent\",\"ruelle\":\"alley\", \"allée\":\"alley\", \"côte\":\"coast\",\"cercle\":\"roundabout\",\\\n",
    "                          \"pont\":\"bridge\",\"crête\":\"crest/ridge\",\"route\":\"road\",\"montée\":\"climb\",\\\n",
    "                         \"carré\":\"square\",\"cours\":\"course\",\"carrefour\":\"crossroads\", \"pont-tunnel\":\"bridge-tunnel\"}\n",
    "if \"pont\" in mtl_roads.PATH_TYPE.unique():\n",
    "    print(\"making translations\")\n",
    "    mtl_roads['PATH_TYPE'] = mtl_roads.PATH_TYPE.apply(lambda path: path_type_translations[path] if path in path_type_translations.keys() else path)\n",
    "    \n",
    "mtl_roads.PATH_TYPE.unique()"
   ]
  },
  {
   "cell_type": "markdown",
   "metadata": {},
   "source": [
    "## MTL Street Parking"
   ]
  },
  {
   "cell_type": "code",
   "execution_count": 14,
   "metadata": {},
   "outputs": [],
   "source": [
    "# select only real stations\n",
    "mtl_street_parking = mtl_street_parking.loc[(mtl_street_parking.DESCRIPTION_REP == \"Réel\") & (mtl_street_parking.DESCRIPTION_CAT == \"STATIONNEMENT\")] "
   ]
  },
  {
   "cell_type": "code",
   "execution_count": 15,
   "metadata": {},
   "outputs": [
    {
     "data": {
      "text/html": [
       "<div>\n",
       "<style scoped>\n",
       "    .dataframe tbody tr th:only-of-type {\n",
       "        vertical-align: middle;\n",
       "    }\n",
       "\n",
       "    .dataframe tbody tr th {\n",
       "        vertical-align: top;\n",
       "    }\n",
       "\n",
       "    .dataframe thead th {\n",
       "        text-align: right;\n",
       "    }\n",
       "</style>\n",
       "<table border=\"1\" class=\"dataframe\">\n",
       "  <thead>\n",
       "    <tr style=\"text-align: right;\">\n",
       "      <th></th>\n",
       "      <th>POTEAU_ID_POT</th>\n",
       "      <th>POSITION_POP</th>\n",
       "      <th>PANNEAU_ID_PAN</th>\n",
       "      <th>PANNEAU_ID_RPA</th>\n",
       "      <th>DESCRIPTION_RPA</th>\n",
       "      <th>CODE_RPA</th>\n",
       "      <th>FLECHE_PAN</th>\n",
       "      <th>DESCRIPTION_CAT</th>\n",
       "      <th>POTEAU_VERSION_POT</th>\n",
       "      <th>DATE_CONCEPTION_POT</th>\n",
       "      <th>DESCRIPTION_REP</th>\n",
       "      <th>DESCRIPTION_RTP</th>\n",
       "      <th>X</th>\n",
       "      <th>Y</th>\n",
       "      <th>Longitude</th>\n",
       "      <th>Latitude</th>\n",
       "      <th>NOM_ARROND</th>\n",
       "      <th>PAS_SUR_RUE</th>\n",
       "      <th>TOPONYME_PAN</th>\n",
       "      <th>geometry</th>\n",
       "    </tr>\n",
       "  </thead>\n",
       "  <tbody>\n",
       "    <tr>\n",
       "      <th>3</th>\n",
       "      <td>1336</td>\n",
       "      <td>6</td>\n",
       "      <td>2461</td>\n",
       "      <td>2585</td>\n",
       "      <td>\\P 09h30-10h30 MAR. 1 MARS AU 1 DEC.</td>\n",
       "      <td>SU-MD</td>\n",
       "      <td>0</td>\n",
       "      <td>STATIONNEMENT</td>\n",
       "      <td>0</td>\n",
       "      <td>1999-04-21</td>\n",
       "      <td>Réel</td>\n",
       "      <td>4- Poteau en bois</td>\n",
       "      <td>298028.806</td>\n",
       "      <td>5047372.523</td>\n",
       "      <td>-73.586745</td>\n",
       "      <td>45.566230</td>\n",
       "      <td>Villeray - Saint-Michel - Parc-Extension</td>\n",
       "      <td>NaN</td>\n",
       "      <td>None</td>\n",
       "      <td>POINT (7628218.145379757 1251167.295888311)</td>\n",
       "    </tr>\n",
       "    <tr>\n",
       "      <th>7</th>\n",
       "      <td>4250</td>\n",
       "      <td>7</td>\n",
       "      <td>7788</td>\n",
       "      <td>2452</td>\n",
       "      <td>\\P LIVRAISON SEULEMENT 09h30-18h LUN. AU VEN.</td>\n",
       "      <td>SL-JS</td>\n",
       "      <td>3</td>\n",
       "      <td>STATIONNEMENT</td>\n",
       "      <td>1</td>\n",
       "      <td>NaT</td>\n",
       "      <td>Réel</td>\n",
       "      <td>1- Tige et base</td>\n",
       "      <td>301779.614</td>\n",
       "      <td>5044836.449</td>\n",
       "      <td>-73.538678</td>\n",
       "      <td>45.543436</td>\n",
       "      <td>Mercier - Hochelaga-Maisonneuve</td>\n",
       "      <td>NaN</td>\n",
       "      <td>None</td>\n",
       "      <td>POINT (7632599.829611734 1249783.112941834)</td>\n",
       "    </tr>\n",
       "    <tr>\n",
       "      <th>8</th>\n",
       "      <td>4298</td>\n",
       "      <td>7</td>\n",
       "      <td>7945</td>\n",
       "      <td>2413</td>\n",
       "      <td>\\P EN TOUT TEMPS</td>\n",
       "      <td>SD-TT</td>\n",
       "      <td>0</td>\n",
       "      <td>STATIONNEMENT</td>\n",
       "      <td>0</td>\n",
       "      <td>1999-03-05</td>\n",
       "      <td>Réel</td>\n",
       "      <td>4- Poteau en bois</td>\n",
       "      <td>300482.236</td>\n",
       "      <td>5044646.690</td>\n",
       "      <td>-73.555290</td>\n",
       "      <td>45.541721</td>\n",
       "      <td>Mercier - Hochelaga-Maisonneuve</td>\n",
       "      <td>NaN</td>\n",
       "      <td>None</td>\n",
       "      <td>POINT (7631392.336576609 1249223.714446473)</td>\n",
       "    </tr>\n",
       "    <tr>\n",
       "      <th>15</th>\n",
       "      <td>4495</td>\n",
       "      <td>7</td>\n",
       "      <td>8336</td>\n",
       "      <td>11</td>\n",
       "      <td>\\A EN TOUT TEMPS</td>\n",
       "      <td>AD-TT</td>\n",
       "      <td>0</td>\n",
       "      <td>STATIONNEMENT</td>\n",
       "      <td>0</td>\n",
       "      <td>1999-03-05</td>\n",
       "      <td>Réel</td>\n",
       "      <td>3- Fût</td>\n",
       "      <td>295707.531</td>\n",
       "      <td>5046220.492</td>\n",
       "      <td>-73.616461</td>\n",
       "      <td>45.555837</td>\n",
       "      <td>Villeray - Saint-Michel - Parc-Extension</td>\n",
       "      <td>NaN</td>\n",
       "      <td>None</td>\n",
       "      <td>POINT (7626292.248371616 1249376.364656074)</td>\n",
       "    </tr>\n",
       "    <tr>\n",
       "      <th>16</th>\n",
       "      <td>4499</td>\n",
       "      <td>7</td>\n",
       "      <td>8346</td>\n",
       "      <td>2539</td>\n",
       "      <td>\\P 09h30-10h30 JEU. 1 MARS AU 1 DEC.</td>\n",
       "      <td>SU-JD</td>\n",
       "      <td>0</td>\n",
       "      <td>STATIONNEMENT</td>\n",
       "      <td>0</td>\n",
       "      <td>1999-03-05</td>\n",
       "      <td>Réel</td>\n",
       "      <td>4- Poteau en bois</td>\n",
       "      <td>296705.034</td>\n",
       "      <td>5046186.599</td>\n",
       "      <td>-73.603684</td>\n",
       "      <td>45.555544</td>\n",
       "      <td>Villeray - Saint-Michel - Parc-Extension</td>\n",
       "      <td>NaN</td>\n",
       "      <td>None</td>\n",
       "      <td>POINT (7627272.570033573 1249631.315670016)</td>\n",
       "    </tr>\n",
       "  </tbody>\n",
       "</table>\n",
       "</div>"
      ],
      "text/plain": [
       "    POTEAU_ID_POT  POSITION_POP  PANNEAU_ID_PAN  PANNEAU_ID_RPA  \\\n",
       "3            1336             6            2461            2585   \n",
       "7            4250             7            7788            2452   \n",
       "8            4298             7            7945            2413   \n",
       "15           4495             7            8336              11   \n",
       "16           4499             7            8346            2539   \n",
       "\n",
       "                                  DESCRIPTION_RPA CODE_RPA  FLECHE_PAN  \\\n",
       "3            \\P 09h30-10h30 MAR. 1 MARS AU 1 DEC.    SU-MD           0   \n",
       "7   \\P LIVRAISON SEULEMENT 09h30-18h LUN. AU VEN.    SL-JS           3   \n",
       "8                                \\P EN TOUT TEMPS    SD-TT           0   \n",
       "15                               \\A EN TOUT TEMPS    AD-TT           0   \n",
       "16           \\P 09h30-10h30 JEU. 1 MARS AU 1 DEC.    SU-JD           0   \n",
       "\n",
       "   DESCRIPTION_CAT  POTEAU_VERSION_POT DATE_CONCEPTION_POT DESCRIPTION_REP  \\\n",
       "3    STATIONNEMENT                   0          1999-04-21            Réel   \n",
       "7    STATIONNEMENT                   1                 NaT            Réel   \n",
       "8    STATIONNEMENT                   0          1999-03-05            Réel   \n",
       "15   STATIONNEMENT                   0          1999-03-05            Réel   \n",
       "16   STATIONNEMENT                   0          1999-03-05            Réel   \n",
       "\n",
       "      DESCRIPTION_RTP           X            Y  Longitude   Latitude  \\\n",
       "3   4- Poteau en bois  298028.806  5047372.523 -73.586745  45.566230   \n",
       "7     1- Tige et base  301779.614  5044836.449 -73.538678  45.543436   \n",
       "8   4- Poteau en bois  300482.236  5044646.690 -73.555290  45.541721   \n",
       "15             3- Fût  295707.531  5046220.492 -73.616461  45.555837   \n",
       "16  4- Poteau en bois  296705.034  5046186.599 -73.603684  45.555544   \n",
       "\n",
       "                                  NOM_ARROND  PAS_SUR_RUE TOPONYME_PAN  \\\n",
       "3   Villeray - Saint-Michel - Parc-Extension          NaN         None   \n",
       "7            Mercier - Hochelaga-Maisonneuve          NaN         None   \n",
       "8            Mercier - Hochelaga-Maisonneuve          NaN         None   \n",
       "15  Villeray - Saint-Michel - Parc-Extension          NaN         None   \n",
       "16  Villeray - Saint-Michel - Parc-Extension          NaN         None   \n",
       "\n",
       "                                       geometry  \n",
       "3   POINT (7628218.145379757 1251167.295888311)  \n",
       "7   POINT (7632599.829611734 1249783.112941834)  \n",
       "8   POINT (7631392.336576609 1249223.714446473)  \n",
       "15  POINT (7626292.248371616 1249376.364656074)  \n",
       "16  POINT (7627272.570033573 1249631.315670016)  "
      ]
     },
     "execution_count": 15,
     "metadata": {},
     "output_type": "execute_result"
    }
   ],
   "source": [
    "mtl_street_parking.head()"
   ]
  },
  {
   "cell_type": "markdown",
   "metadata": {},
   "source": [
    "## MTL Land use"
   ]
  },
  {
   "cell_type": "code",
   "execution_count": 16,
   "metadata": {},
   "outputs": [],
   "source": [
    "category_translations = {'mixte':\"mixed\", 'residentiel':\"residential\", 'activites diversifiees':\"diversified activities\",\\\n",
    "                         'emplois':\"employment\", 'institution':\"institution\", 'conservation':\"conservation\",\\\n",
    "                         'religieux':\"religious\", 'agricole':\"agricultural\", 'parc':\"park\",\\\n",
    "                         'infrastructure':\"infrastructure\"}\n",
    "\n",
    "if \"mixte\" in mtl_land_use.categorie.unique():\n",
    "    print(\"making translations\")\n",
    "    mtl_land_use['categorie'] = mtl_land_use.categorie.apply(lambda lu: category_translations[lu] if lu in category_translations.keys() else lu)"
   ]
  },
  {
   "cell_type": "markdown",
   "metadata": {},
   "source": [
    "## MTL culture sites"
   ]
  },
  {
   "cell_type": "code",
   "execution_count": 18,
   "metadata": {},
   "outputs": [],
   "source": [
    "mtl_culture_sites.rename(columns={\"Noms du réseau\":\"type\",\"Nom du lieu culturel municipal\":\"name\"}, inplace=True)"
   ]
  },
  {
   "cell_type": "code",
   "execution_count": 19,
   "metadata": {},
   "outputs": [
    {
     "data": {
      "text/plain": [
       "array(['Space for Life, Municipal Museum', 'Library', 'Auditorium',\n",
       "       'Auditorium, Municipal Museum', 'Church', 'Recreation Center',\n",
       "       'Community Center', 'Cinema', 'Library, Community Center, Theater',\n",
       "       'Theater', 'Cinema, Theater', 'Municipal Museum'], dtype=object)"
      ]
     },
     "execution_count": 19,
     "metadata": {},
     "output_type": "execute_result"
    }
   ],
   "source": [
    "culture_site_translations = {'Espace pour la vie,Musée municipal':\"Space for Life, Municipal Museum\",\\\n",
    "                             'Bibliothèque':'Library', 'Salle de spectacle':'Auditorium',\\\n",
    "                             'Salle de spectacle,Musée municipal':'Auditorium, Municipal Museum',\n",
    "                             'Église':'Church', 'Centre des loisirs':'Recreation Center',\\\n",
    "                             'Centre communautaire':'Community Center', 'Cinéma':'Cinema',\\\n",
    "                             'Bibliothèque,Centre communautaire,Salle de spectacle': 'Library, Community Center, Theater',\\\n",
    "                             'Théâtre':'Theater', 'Cinéma,Théâtre':'Cinema, Theater', 'Musée municipal':'Municipal Museum'\n",
    "                            }\n",
    "if \"Église\" in mtl_culture_sites['type'].unique():\n",
    "    print(\"making translations\")\n",
    "    mtl_culture_sites['type'] = mtl_culture_sites['type'].apply(lambda lu: culture_site_translations[lu] if lu in culture_site_translations.keys() else lu)\n",
    "mtl_culture_sites['type'].unique()"
   ]
  },
  {
   "cell_type": "markdown",
   "metadata": {},
   "source": [
    "### re-save files"
   ]
  },
  {
   "cell_type": "code",
   "execution_count": 21,
   "metadata": {},
   "outputs": [],
   "source": [
    "# %%time\n",
    "mtl_culture_sites.to_file('../data/lieuxculturels.json', driver=\"GeoJSON\")\n",
    "mtl_roads.to_file('../data/mtl_roads.json', driver=\"GeoJSON\")\n",
    "mtl_street_parking.to_file('../data/signalisation_stationnement.geojson', driver=\"GeoJSON\")\n"
   ]
  },
  {
   "cell_type": "code",
   "execution_count": 22,
   "metadata": {},
   "outputs": [],
   "source": [
    "# %%time\n",
    "mtl_land_use.to_file('../data/mtl_land_use.json', driver=\"GeoJSON\")"
   ]
  },
  {
   "cell_type": "code",
   "execution_count": null,
   "metadata": {
    "collapsed": true
   },
   "outputs": [],
   "source": []
  }
 ],
 "metadata": {
  "kernelspec": {
   "display_name": "Python 3",
   "language": "python",
   "name": "python3"
  },
  "language_info": {
   "codemirror_mode": {
    "name": "ipython",
    "version": 3
   },
   "file_extension": ".py",
   "mimetype": "text/x-python",
   "name": "python",
   "nbconvert_exporter": "python",
   "pygments_lexer": "ipython3",
   "version": "3.7.3"
  }
 },
 "nbformat": 4,
 "nbformat_minor": 2
}
